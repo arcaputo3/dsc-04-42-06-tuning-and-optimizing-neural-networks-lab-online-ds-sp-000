{
 "cells": [
  {
   "cell_type": "markdown",
   "metadata": {},
   "source": [
    "# Tuning and Optimizing Neural Networks - Lab\n",
    "\n",
    "## Introduction\n",
    "\n",
    "Now that we've discussed some regularization, initialization and optimization techniques, its time to synthesize those concepts into a cohesive modelling pipeline.  \n",
    "\n",
    "With this pipeline, yoiu will not only fit an initial model but will also attempt to set various hyperparameters for regularization techniques. Your final model selection will pertain to the test metrics across these models. This will more naturally simulate a problem you might be faced with in practice, and the various modelling decisions you are apt to encounter along the way.  \n",
    "\n",
    "Recall that our end objective is to achieve a balance between overfitting and underfitting. We've discussed the bias variance tradeoff, and the role of regularization in order to reduce overfitting on training data and improving generalization to new cases. Common frameworks for such a procedure include train/validate/test methodology when data is plentiful, and K-folds cross-validation for smaller, more limited datasets. In this lab, you'll perform the latter, as the dataset in question is fairly limited. \n",
    "\n",
    "## Objectives\n",
    "\n",
    "You will be able to:\n",
    "\n",
    "* Implement a K-folds cross validation modelling pipeline\n",
    "* Apply normalization as a preprocessing technique\n",
    "* Apply regularization techniques to improve your model's generalization\n",
    "* Choose an appropriate optimization strategy "
   ]
  },
  {
   "cell_type": "markdown",
   "metadata": {},
   "source": [
    "## Loading the Data"
   ]
  },
  {
   "cell_type": "code",
   "execution_count": 18,
   "metadata": {},
   "outputs": [],
   "source": [
    "#Your code here; load and preview the dataset\n",
    "import pandas as pd\n",
    "import numpy as np\n",
    "import matplotlib.pyplot as plt\n",
    "\n",
    "from sklearn.preprocessing import StandardScaler, OneHotEncoder\n",
    "from sklearn.impute import SimpleImputer\n",
    "from sklearn.model_selection import train_test_split, KFold\n",
    "from sklearn.pipeline import make_pipeline, FeatureUnion\n",
    "from sklearn.base import TransformerMixin, BaseEstimator\n",
    "\n",
    "from keras import models\n",
    "from keras import layers"
   ]
  },
  {
   "cell_type": "code",
   "execution_count": 5,
   "metadata": {},
   "outputs": [
    {
     "data": {
      "text/html": [
       "<div>\n",
       "<style scoped>\n",
       "    .dataframe tbody tr th:only-of-type {\n",
       "        vertical-align: middle;\n",
       "    }\n",
       "\n",
       "    .dataframe tbody tr th {\n",
       "        vertical-align: top;\n",
       "    }\n",
       "\n",
       "    .dataframe thead th {\n",
       "        text-align: right;\n",
       "    }\n",
       "</style>\n",
       "<table border=\"1\" class=\"dataframe\">\n",
       "  <thead>\n",
       "    <tr style=\"text-align: right;\">\n",
       "      <th></th>\n",
       "      <th>loan_amnt</th>\n",
       "      <th>funded_amnt_inv</th>\n",
       "      <th>term</th>\n",
       "      <th>int_rate</th>\n",
       "      <th>installment</th>\n",
       "      <th>grade</th>\n",
       "      <th>emp_length</th>\n",
       "      <th>home_ownership</th>\n",
       "      <th>annual_inc</th>\n",
       "      <th>verification_status</th>\n",
       "      <th>loan_status</th>\n",
       "      <th>purpose</th>\n",
       "      <th>addr_state</th>\n",
       "      <th>total_acc</th>\n",
       "      <th>total_pymnt</th>\n",
       "      <th>application_type</th>\n",
       "    </tr>\n",
       "  </thead>\n",
       "  <tbody>\n",
       "    <tr>\n",
       "      <th>0</th>\n",
       "      <td>5000.0</td>\n",
       "      <td>4975.0</td>\n",
       "      <td>36 months</td>\n",
       "      <td>10.65%</td>\n",
       "      <td>162.87</td>\n",
       "      <td>B</td>\n",
       "      <td>10+ years</td>\n",
       "      <td>RENT</td>\n",
       "      <td>24000.0</td>\n",
       "      <td>Verified</td>\n",
       "      <td>Fully Paid</td>\n",
       "      <td>credit_card</td>\n",
       "      <td>AZ</td>\n",
       "      <td>9.0</td>\n",
       "      <td>5863.155187</td>\n",
       "      <td>Individual</td>\n",
       "    </tr>\n",
       "    <tr>\n",
       "      <th>1</th>\n",
       "      <td>2500.0</td>\n",
       "      <td>2500.0</td>\n",
       "      <td>60 months</td>\n",
       "      <td>15.27%</td>\n",
       "      <td>59.83</td>\n",
       "      <td>C</td>\n",
       "      <td>&lt; 1 year</td>\n",
       "      <td>RENT</td>\n",
       "      <td>30000.0</td>\n",
       "      <td>Source Verified</td>\n",
       "      <td>Charged Off</td>\n",
       "      <td>car</td>\n",
       "      <td>GA</td>\n",
       "      <td>4.0</td>\n",
       "      <td>1014.530000</td>\n",
       "      <td>Individual</td>\n",
       "    </tr>\n",
       "    <tr>\n",
       "      <th>2</th>\n",
       "      <td>2400.0</td>\n",
       "      <td>2400.0</td>\n",
       "      <td>36 months</td>\n",
       "      <td>15.96%</td>\n",
       "      <td>84.33</td>\n",
       "      <td>C</td>\n",
       "      <td>10+ years</td>\n",
       "      <td>RENT</td>\n",
       "      <td>12252.0</td>\n",
       "      <td>Not Verified</td>\n",
       "      <td>Fully Paid</td>\n",
       "      <td>small_business</td>\n",
       "      <td>IL</td>\n",
       "      <td>10.0</td>\n",
       "      <td>3005.666844</td>\n",
       "      <td>Individual</td>\n",
       "    </tr>\n",
       "    <tr>\n",
       "      <th>3</th>\n",
       "      <td>10000.0</td>\n",
       "      <td>10000.0</td>\n",
       "      <td>36 months</td>\n",
       "      <td>13.49%</td>\n",
       "      <td>339.31</td>\n",
       "      <td>C</td>\n",
       "      <td>10+ years</td>\n",
       "      <td>RENT</td>\n",
       "      <td>49200.0</td>\n",
       "      <td>Source Verified</td>\n",
       "      <td>Fully Paid</td>\n",
       "      <td>other</td>\n",
       "      <td>CA</td>\n",
       "      <td>37.0</td>\n",
       "      <td>12231.890000</td>\n",
       "      <td>Individual</td>\n",
       "    </tr>\n",
       "    <tr>\n",
       "      <th>4</th>\n",
       "      <td>3000.0</td>\n",
       "      <td>3000.0</td>\n",
       "      <td>60 months</td>\n",
       "      <td>12.69%</td>\n",
       "      <td>67.79</td>\n",
       "      <td>B</td>\n",
       "      <td>1 year</td>\n",
       "      <td>RENT</td>\n",
       "      <td>80000.0</td>\n",
       "      <td>Source Verified</td>\n",
       "      <td>Fully Paid</td>\n",
       "      <td>other</td>\n",
       "      <td>OR</td>\n",
       "      <td>38.0</td>\n",
       "      <td>4066.908161</td>\n",
       "      <td>Individual</td>\n",
       "    </tr>\n",
       "  </tbody>\n",
       "</table>\n",
       "</div>"
      ],
      "text/plain": [
       "   loan_amnt  funded_amnt_inv        term int_rate  installment grade  \\\n",
       "0     5000.0           4975.0   36 months   10.65%       162.87     B   \n",
       "1     2500.0           2500.0   60 months   15.27%        59.83     C   \n",
       "2     2400.0           2400.0   36 months   15.96%        84.33     C   \n",
       "3    10000.0          10000.0   36 months   13.49%       339.31     C   \n",
       "4     3000.0           3000.0   60 months   12.69%        67.79     B   \n",
       "\n",
       "  emp_length home_ownership  annual_inc verification_status  loan_status  \\\n",
       "0  10+ years           RENT     24000.0            Verified   Fully Paid   \n",
       "1   < 1 year           RENT     30000.0     Source Verified  Charged Off   \n",
       "2  10+ years           RENT     12252.0        Not Verified   Fully Paid   \n",
       "3  10+ years           RENT     49200.0     Source Verified   Fully Paid   \n",
       "4     1 year           RENT     80000.0     Source Verified   Fully Paid   \n",
       "\n",
       "          purpose addr_state  total_acc   total_pymnt application_type  \n",
       "0     credit_card         AZ        9.0   5863.155187       Individual  \n",
       "1             car         GA        4.0   1014.530000       Individual  \n",
       "2  small_business         IL       10.0   3005.666844       Individual  \n",
       "3           other         CA       37.0  12231.890000       Individual  \n",
       "4           other         OR       38.0   4066.908161       Individual  "
      ]
     },
     "execution_count": 5,
     "metadata": {},
     "output_type": "execute_result"
    }
   ],
   "source": [
    "df = pd.read_csv('loan_final.csv')\n",
    "df.head()"
   ]
  },
  {
   "cell_type": "code",
   "execution_count": 6,
   "metadata": {},
   "outputs": [
    {
     "name": "stdout",
     "output_type": "stream",
     "text": [
      "<class 'pandas.core.frame.DataFrame'>\n",
      "RangeIndex: 42538 entries, 0 to 42537\n",
      "Data columns (total 16 columns):\n",
      "loan_amnt              42535 non-null float64\n",
      "funded_amnt_inv        42535 non-null float64\n",
      "term                   42535 non-null object\n",
      "int_rate               42535 non-null object\n",
      "installment            42535 non-null float64\n",
      "grade                  42535 non-null object\n",
      "emp_length             41423 non-null object\n",
      "home_ownership         42535 non-null object\n",
      "annual_inc             42531 non-null float64\n",
      "verification_status    42535 non-null object\n",
      "loan_status            42535 non-null object\n",
      "purpose                42535 non-null object\n",
      "addr_state             42535 non-null object\n",
      "total_acc              42506 non-null float64\n",
      "total_pymnt            42535 non-null float64\n",
      "application_type       42535 non-null object\n",
      "dtypes: float64(6), object(10)\n",
      "memory usage: 5.2+ MB\n"
     ]
    }
   ],
   "source": [
    "df.info()"
   ]
  },
  {
   "cell_type": "code",
   "execution_count": 7,
   "metadata": {},
   "outputs": [],
   "source": [
    "# Drop NaN since very few\n",
    "df.dropna(inplace=True)"
   ]
  },
  {
   "cell_type": "code",
   "execution_count": 8,
   "metadata": {},
   "outputs": [],
   "source": [
    "df['int_rate'] = df.int_rate.str[:-1].astype('float64')"
   ]
  },
  {
   "cell_type": "code",
   "execution_count": 9,
   "metadata": {},
   "outputs": [
    {
     "name": "stdout",
     "output_type": "stream",
     "text": [
      "<class 'pandas.core.frame.DataFrame'>\n",
      "Int64Index: 41394 entries, 0 to 42516\n",
      "Data columns (total 16 columns):\n",
      "loan_amnt              41394 non-null float64\n",
      "funded_amnt_inv        41394 non-null float64\n",
      "term                   41394 non-null object\n",
      "int_rate               41394 non-null float64\n",
      "installment            41394 non-null float64\n",
      "grade                  41394 non-null object\n",
      "emp_length             41394 non-null object\n",
      "home_ownership         41394 non-null object\n",
      "annual_inc             41394 non-null float64\n",
      "verification_status    41394 non-null object\n",
      "loan_status            41394 non-null object\n",
      "purpose                41394 non-null object\n",
      "addr_state             41394 non-null object\n",
      "total_acc              41394 non-null float64\n",
      "total_pymnt            41394 non-null float64\n",
      "application_type       41394 non-null object\n",
      "dtypes: float64(7), object(9)\n",
      "memory usage: 5.4+ MB\n"
     ]
    }
   ],
   "source": [
    "df.info()"
   ]
  },
  {
   "cell_type": "markdown",
   "metadata": {},
   "source": [
    "## Defining the Problem\n",
    "\n",
    "Set up the problem by defining X and Y. \n",
    "\n",
    "For this problem use the following variables for X:\n",
    "* loan_amnt\n",
    "* home_ownership\n",
    "* funded_amnt_inv\n",
    "* verification_status\n",
    "* emp_length\n",
    "* installment\n",
    "* annual_inc\n",
    "\n",
    "Be sure to use dummy variables for categorical variables and to normalize numerical quanitities. Be sure to also remove any rows with null data.  \n",
    "\n",
    "For Y, we are looking to build a model to predict the total payment received for a loan."
   ]
  },
  {
   "cell_type": "code",
   "execution_count": 28,
   "metadata": {},
   "outputs": [],
   "source": [
    "X, y = df.drop('total_pymnt', axis=1), df.total_pymnt"
   ]
  },
  {
   "cell_type": "code",
   "execution_count": 33,
   "metadata": {},
   "outputs": [],
   "source": [
    "class DataFrameSelector(BaseEstimator, TransformerMixin):\n",
    "    \"\"\" A DataFrame transformer that provides column selection. \"\"\"\n",
    "    \n",
    "    def __init__(self, columns=[]):\n",
    "        \"\"\" Get selected columns. \"\"\"\n",
    "        self.columns = columns\n",
    "        \n",
    "    def transform(self, X):\n",
    "        \"\"\" Returns df with selected columns. \"\"\"\n",
    "        return X[self.columns].copy()\n",
    "    \n",
    "    def fit(self, X, y=None):\n",
    "        \"\"\" Do nothing operation. \"\"\"\n",
    "        return self\n",
    "\n",
    "\n",
    "# -- Get Pipelines --\n",
    "\n",
    "# Get categoricals and numericals\n",
    "cat_cols = list(X.select_dtypes(include=object).columns)\n",
    "num_cols = [c for c in X.columns if c not in cat_cols + ['total_pymt']]\n",
    "\n",
    "# Fit numerical pipeline\n",
    "num_pipeline = make_pipeline(\n",
    "    DataFrameSelector(num_cols),\n",
    "    SimpleImputer(strategy='median'),\n",
    "    StandardScaler()\n",
    ")\n",
    "\n",
    "# Fit categorical pipeline\n",
    "cat_pipeline = make_pipeline(\n",
    "    DataFrameSelector(cat_cols),\n",
    "    SimpleImputer(strategy='most_frequent'),\n",
    "    OneHotEncoder(handle_unknown='ignore', sparse=False)\n",
    ")\n",
    "\n",
    "# Union pipelines\n",
    "full_preproc = FeatureUnion(transformer_list=[\n",
    "    (\"cat_pipeline\", cat_pipeline),\n",
    "    (\"num_pipeline\", num_pipeline)\n",
    "])\n",
    "\n",
    "y_scale = StandardScaler()"
   ]
  },
  {
   "cell_type": "markdown",
   "metadata": {},
   "source": [
    "## Generating a Hold Out Test Set\n",
    "\n",
    "While we will be using K-fold cross validation to select an optimal model, we still want a final hold out test set that is completely independent of any modelling decisions. As such, pull out a sample of 10% of the total available data. For consistency of results, use random seed 123. "
   ]
  },
  {
   "cell_type": "code",
   "execution_count": 36,
   "metadata": {},
   "outputs": [],
   "source": [
    "# Your code here; generate a hold out test set for final model evaluation. Use random seed 123.\n",
    "X_train, X_test, y_train, y_test = train_test_split(X, y, test_size=0.2, random_state=123)\n",
    "X_train = full_preproc.fit_transform(X_train)\n",
    "X_test = full_preproc.transform(X_test)\n",
    "y_train = y_scale.fit_transform(y_train.values.reshape(-1, 1))\n",
    "y_test = y_scale.fit_transform(y_test.values.reshape(-1, 1))"
   ]
  },
  {
   "cell_type": "code",
   "execution_count": 37,
   "metadata": {},
   "outputs": [
    {
     "data": {
      "text/plain": [
       "((33115, 103), (8279, 103))"
      ]
     },
     "execution_count": 37,
     "metadata": {},
     "output_type": "execute_result"
    }
   ],
   "source": [
    "X_train.shape, X_test.shape"
   ]
  },
  {
   "cell_type": "code",
   "execution_count": 38,
   "metadata": {},
   "outputs": [
    {
     "data": {
      "text/plain": [
       "((33115, 1), (8279, 1))"
      ]
     },
     "execution_count": 38,
     "metadata": {},
     "output_type": "execute_result"
    }
   ],
   "source": [
    "y_train.shape, y_test.shape"
   ]
  },
  {
   "cell_type": "markdown",
   "metadata": {},
   "source": [
    "## Defining a K-fold Cross Validation Methodology\n",
    "\n",
    "Now that your have a complete holdout test set, write a function that takes in the remaining data and performs k-folds cross validation given a model object. Be sure your function returns performance metrics regarding the training and validation sets."
   ]
  },
  {
   "cell_type": "code",
   "execution_count": 110,
   "metadata": {},
   "outputs": [],
   "source": [
    "#Your code here; define a function to evaluate a model object using K folds cross validation.\n",
    "from pprint import pprint\n",
    "import time\n",
    "import datetime\n",
    "from keras import regularizers\n",
    "\n",
    "#Your code here; try some methods to overfit your network\n",
    "def build_model(layer_sizes=[10, 10], dropout=False, l1_reg=False, l2_reg=False):\n",
    "    \"\"\" Builds a new model.\n",
    "        layer_sizes: represents layer structure as an array\n",
    "        dropout: default 0.2 dropout at each layer if True\n",
    "        l1_reg: default 0.005 l1_reg at each layer if True\n",
    "        l2_reg: default 0.005 l2_reg at each layer if True.\n",
    "    \"\"\"\n",
    "    # Get regularization\n",
    "    if l1_reg:\n",
    "        reg = regularizers.l1(0.005)\n",
    "    elif l2_reg:\n",
    "        reg = regularizers.l2(0.005)\n",
    "    else:\n",
    "        reg = None\n",
    "        \n",
    "    # Init model\n",
    "    model = models.Sequential()\n",
    "    for size in layer_sizes:\n",
    "        model.add(\n",
    "            layers.Dense(\n",
    "            size, \n",
    "            activation='relu',\n",
    "            kernel_regularizer=reg\n",
    "            )\n",
    "                 )\n",
    "        \n",
    "        if dropout:\n",
    "            model.add(layers.Dropout(0.2))\n",
    "\n",
    "    model.add(layers.Dense(1))\n",
    "    model.add(layers.Activation('linear'))\n",
    "    model.compile(optimizer='adam',\n",
    "                  loss='mean_squared_error',\n",
    "                  metrics=['mean_absolute_error'])\n",
    "    return model\n",
    "\n",
    "\n",
    "def k_folds(features_train, labels_train, model_obj, k=10, n_epochs=100):\n",
    "    \"\"\" Performs K-Fold cross validation given a keras model. \n",
    "        Returns mean loss and mean metrics.\n",
    "        Prints results at each fold and time elapsed.\"\"\"\n",
    "    # Report elapsed time\n",
    "    now = datetime.datetime.now()\n",
    "    # Get fold distribution\n",
    "    kf = KFold(n_splits=k, random_state=123)\n",
    "    results = []\n",
    "    for i, (train_ind, val_ind) in enumerate(kf.split(features_train)):\n",
    "        X_tr, X_val = features_train[train_ind], features_train[val_ind]\n",
    "        y_tr, y_val = labels_train[train_ind], labels_train[val_ind]\n",
    "        \n",
    "        # Need to rebuild model for each fold\n",
    "        # otherwise we train over validation data\n",
    "        model = build_model(**model_obj)\n",
    "        \n",
    "        # Fit model to each fold\n",
    "        hist = model.fit(X_tr, y_tr, \n",
    "                             batch_size=512,\n",
    "                             epochs=n_epochs,\n",
    "                             verbose=0,\n",
    "                             )\n",
    "        \n",
    "        # Get model metrics\n",
    "        met = model.evaluate(X_val, y_val)\n",
    "        print(f\"Fold {i} metrics: \")\n",
    "        print(f\"val_mse: {met[0]}\")\n",
    "        print(f\"val_mae: {met[1]}\")\n",
    "        print()\n",
    "        results.append(met)\n",
    "    \n",
    "    # Final metrics \n",
    "    results = np.array(results).mean(axis=0)\n",
    "    final_results = {'mean_val_mse': results[0], 'mean_val_mae': results[1]}\n",
    "    pprint(final_results)\n",
    "    later = datetime.datetime.now()\n",
    "    elapsed = later - now\n",
    "    print('Time Elapsed:', elapsed)\n",
    "    \n",
    "    return final_results"
   ]
  },
  {
   "cell_type": "markdown",
   "metadata": {},
   "source": [
    "## Building a Baseline Model\n",
    "\n",
    "Here, it is also important to define your evaluation metric that you will look to optimize while tuning the model.   \n",
    "\n",
    "In general, model training to optimize this metric may consist of using a validation and test set if data is plentiful, or k-folds cross-validation if data is limited. We set up a k-folds cross-validation for this task since the dataset is not overly large.  \n",
    "\n",
    "Build an initial sequential model with 2 hidden relu layers. The first should have 7 hidden units, and the second 10 hidden units. Finally, add a third layer with a linear activation function to output our predictions for the total loan payment. "
   ]
  },
  {
   "cell_type": "markdown",
   "metadata": {},
   "source": [
    "## Evaluating the Baseline Model with K-Folds Cross Validation\n",
    "\n",
    "Use your k-folds function to evaluate the baseline model.  \n",
    "\n",
    "Note: This code block is likely to take 10-20 minutes to run depending on the specs on your computer.\n",
    "Because of time dependencies, it can be interesting to begin timing these operations for future reference.\n",
    "\n",
    "Here's a simple little recipe to achieve this:\n",
    "```\n",
    "import time\n",
    "import datetime\n",
    "\n",
    "now = datetime.datetime.now()\n",
    "later = datetime.datetime.now()\n",
    "elapsed = later - now\n",
    "print('Time Elapsed:', elapsed)\n",
    "```"
   ]
  },
  {
   "cell_type": "code",
   "execution_count": 106,
   "metadata": {
    "scrolled": false
   },
   "outputs": [
    {
     "name": "stdout",
     "output_type": "stream",
     "text": [
      "3312/3312 [==============================] - 0s 134us/step\n",
      "Fold 0 metrics: \n",
      "val_mse: 0.05517629258658575\n",
      "val_mae: 0.11476484347800701\n",
      "\n",
      "3312/3312 [==============================] - 0s 144us/step\n",
      "Fold 1 metrics: \n",
      "val_mse: 0.050690279486206705\n",
      "val_mae: 0.11186759137876943\n",
      "\n",
      "3312/3312 [==============================] - 1s 154us/step\n",
      "Fold 2 metrics: \n",
      "val_mse: 0.06649178702492213\n",
      "val_mae: 0.1264717563410888\n",
      "\n",
      "3312/3312 [==============================] - 1s 165us/step\n",
      "Fold 3 metrics: \n",
      "val_mse: 0.054590014668838414\n",
      "val_mae: 0.11863151808147845\n",
      "\n",
      "3312/3312 [==============================] - 1s 162us/step\n",
      "Fold 4 metrics: \n",
      "val_mse: 0.05606142530028803\n",
      "val_mae: 0.1169992237923226\n",
      "\n",
      "3311/3311 [==============================] - 1s 167us/step\n",
      "Fold 5 metrics: \n",
      "val_mse: 0.06715179695425726\n",
      "val_mae: 0.12277547184100003\n",
      "\n",
      "3311/3311 [==============================] - 1s 166us/step\n",
      "Fold 6 metrics: \n",
      "val_mse: 0.057602255204335255\n",
      "val_mae: 0.1174020196638306\n",
      "\n",
      "3311/3311 [==============================] - 1s 174us/step\n",
      "Fold 7 metrics: \n",
      "val_mse: 0.052781097219631916\n",
      "val_mae: 0.1175577723342679\n",
      "\n",
      "3311/3311 [==============================] - 1s 175us/step\n",
      "Fold 8 metrics: \n",
      "val_mse: 0.06491646152614143\n",
      "val_mae: 0.12260946288493349\n",
      "\n",
      "3311/3311 [==============================] - 1s 196us/step\n",
      "Fold 9 metrics: \n",
      "val_mse: 0.05672273798208606\n",
      "val_mae: 0.11247858632388558\n",
      "\n",
      "{'mean_val_mae': 0.1181558246119584, 'mean_val_mse': 0.0582184147953293}\n",
      "Time Elapsed: 0:03:50.816316\n"
     ]
    }
   ],
   "source": [
    "#Your code here; use your k-folds function to evaluate the baseline model.\n",
    "model_params = {'layer_sizes': [7, 10], 'dropout': False}\n",
    "\n",
    "results = k_folds(X_train, y_train, model_obj=model_params, k=10)\n"
   ]
  },
  {
   "cell_type": "code",
   "execution_count": 107,
   "metadata": {},
   "outputs": [
    {
     "data": {
      "text/plain": [
       "{'mean_val_mse': 0.0582184147953293, 'mean_val_mae': 0.1181558246119584}"
      ]
     },
     "execution_count": 107,
     "metadata": {},
     "output_type": "execute_result"
    }
   ],
   "source": [
    "results"
   ]
  },
  {
   "cell_type": "markdown",
   "metadata": {},
   "source": [
    "## Intentionally Overfitting a Model\n",
    "\n",
    "Now that you've developed a baseline model, its time to intentionally overfit a model. To overfit a model, you can:\n",
    "* Add layers\n",
    "* Make the layers bigger\n",
    "* Increase the number of training epochs\n",
    "\n",
    "Again, be careful here. Think about the limitations of your resources, both in terms of your computers specs and how much time and patience you have to let the process run. Also keep in mind that you will then be regularizing these overfit models, meaning another round of experiments and more time and resources.  \n",
    "\n",
    "For example, here are some timing notes on potential experiments run on a Macbook Pro 3.1 GHz Intel Core i5 with 16gb of RAM:\n",
    "\n",
    "* Using our 10 fold cross validation methodology, a 5-layer neural network with 10 units per hidden layer and 100 epochs took approximately 15 minutes to train and validate  \n",
    "\n",
    "* Using our 10 fold cross validation methodology, a 5-layer neural network with 25 units per hidden layer and 100 epochs took approximately 25 minutes to train and validate  \n",
    "\n",
    "* Using our 10 fold cross validation methodology, a 5-layer neural network with 10 units per hidden layer and 250 epochs took approximately 45 minutes to train and validate\n"
   ]
  },
  {
   "cell_type": "code",
   "execution_count": 108,
   "metadata": {},
   "outputs": [
    {
     "name": "stdout",
     "output_type": "stream",
     "text": [
      "3312/3312 [==============================] - 1s 195us/step\n",
      "Fold 0 metrics: \n",
      "val_mse: 0.08887592388164019\n",
      "val_mae: 0.14008039739972727\n",
      "\n",
      "3312/3312 [==============================] - 1s 195us/step\n",
      "Fold 1 metrics: \n",
      "val_mse: 0.07828280331503942\n",
      "val_mae: 0.13450996563342457\n",
      "\n",
      "3312/3312 [==============================] - 1s 215us/step\n",
      "Fold 2 metrics: \n",
      "val_mse: 0.09927672992239972\n",
      "val_mae: 0.15458821249756835\n",
      "\n",
      "3312/3312 [==============================] - 1s 216us/step\n",
      "Fold 3 metrics: \n",
      "val_mse: 0.08250277746774724\n",
      "val_mae: 0.1453164774870527\n",
      "\n",
      "3312/3312 [==============================] - 1s 223us/step\n",
      "Fold 4 metrics: \n",
      "val_mse: 0.08348161679499103\n",
      "val_mae: 0.13810881587186297\n",
      "\n",
      "3311/3311 [==============================] - 1s 222us/step\n",
      "Fold 5 metrics: \n",
      "val_mse: 0.09670177294654146\n",
      "val_mae: 0.1446036417875467\n",
      "\n",
      "3311/3311 [==============================] - 1s 224us/step\n",
      "Fold 6 metrics: \n",
      "val_mse: 0.08827322696278514\n",
      "val_mae: 0.14298278104139217\n",
      "\n",
      "3311/3311 [==============================] - 1s 238us/step\n",
      "Fold 7 metrics: \n",
      "val_mse: 0.08065023424671482\n",
      "val_mae: 0.1380346022283012\n",
      "\n",
      "3311/3311 [==============================] - 1s 253us/step\n",
      "Fold 8 metrics: \n",
      "val_mse: 0.09164724436655249\n",
      "val_mae: 0.1409262224955344\n",
      "\n",
      "3311/3311 [==============================] - 1s 257us/step\n",
      "Fold 9 metrics: \n",
      "val_mse: 0.08366403699470265\n",
      "val_mae: 0.1393290998572239\n",
      "\n",
      "{'mean_val_mae': 0.1418480216299634, 'mean_val_mse': 0.08733563668991143}\n",
      "Time Elapsed: 0:10:26.599046\n"
     ]
    }
   ],
   "source": [
    "#Your code here; try some methods to overfit your network\n",
    "model_params_overfit = {'layer_sizes': [100 for _ in range(5)], 'dropout': False}\n",
    "\n",
    "results_overfit = k_folds(X_train, y_train, model_obj=model_params_overfit, k=10, n_epochs=200)"
   ]
  },
  {
   "cell_type": "code",
   "execution_count": 109,
   "metadata": {},
   "outputs": [
    {
     "data": {
      "text/plain": [
       "{'mean_val_mse': 0.08733563668991143, 'mean_val_mae': 0.1418480216299634}"
      ]
     },
     "execution_count": 109,
     "metadata": {},
     "output_type": "execute_result"
    }
   ],
   "source": [
    "#Your code here; try some methods to overfit your network\n",
    "results_overfit"
   ]
  },
  {
   "cell_type": "markdown",
   "metadata": {},
   "source": [
    "## Regularizing the Model to Achieve Balance  \n",
    "\n",
    "Now that you have a powerful model (albeit an overfit one), we can now increase the generalization of the model by using some of the regularization techniques we discussed. Some options you have to try include:  \n",
    "* Adding dropout\n",
    "* Adding L1/L2 regularization\n",
    "* Altering the layer architecture (add or remove layers similar to above)  \n",
    "\n",
    "This process will be constrained by time and resources. Be sure to test at least 2 different methodologies, such as dropout and L2 regularization. If you have the time, feel free to continue experimenting.\n",
    "\n",
    "Notes: "
   ]
  },
  {
   "cell_type": "code",
   "execution_count": 115,
   "metadata": {},
   "outputs": [
    {
     "name": "stdout",
     "output_type": "stream",
     "text": [
      "3312/3312 [==============================] - 1s 373us/step\n",
      "Fold 0 metrics: \n",
      "val_mse: 0.0648385339241097\n",
      "val_mae: 0.11910622844085601\n",
      "\n",
      "3312/3312 [==============================] - 1s 357us/step\n",
      "Fold 1 metrics: \n",
      "val_mse: 0.06161795448565829\n",
      "val_mae: 0.11402940156235211\n",
      "\n",
      "3312/3312 [==============================] - 1s 354us/step\n",
      "Fold 2 metrics: \n",
      "val_mse: 0.06917049861760531\n",
      "val_mae: 0.12534974223893622\n",
      "\n",
      "3312/3312 [==============================] - 1s 365us/step\n",
      "Fold 3 metrics: \n",
      "val_mse: 0.06172752921168067\n",
      "val_mae: 0.11530708874337339\n",
      "\n",
      "3312/3312 [==============================] - 1s 380us/step\n",
      "Fold 4 metrics: \n",
      "val_mse: 0.06414675786371392\n",
      "val_mae: 0.12140622950982356\n",
      "\n",
      "3311/3311 [==============================] - 1s 369us/step\n",
      "Fold 5 metrics: \n",
      "val_mse: 0.07572858414253514\n",
      "val_mae: 0.12477077525283448\n",
      "\n",
      "3311/3311 [==============================] - 1s 373us/step\n",
      "Fold 6 metrics: \n",
      "val_mse: 0.06891669612462266\n",
      "val_mae: 0.13593886771507402\n",
      "\n",
      "3311/3311 [==============================] - 1s 388us/step\n",
      "Fold 7 metrics: \n",
      "val_mse: 0.06099378958240948\n",
      "val_mae: 0.11430322663980609\n",
      "\n",
      "3311/3311 [==============================] - 1s 388us/step\n",
      "Fold 8 metrics: \n",
      "val_mse: 0.06971779203071078\n",
      "val_mae: 0.11946102223865074\n",
      "\n",
      "3311/3311 [==============================] - 1s 389us/step\n",
      "Fold 9 metrics: \n",
      "val_mse: 0.06665716605439301\n",
      "val_mae: 0.12646858647074163\n",
      "\n",
      "{'mean_val_mae': 0.12161411688124482, 'mean_val_mse': 0.0663515302037439}\n",
      "Time Elapsed: 0:08:17.900585\n"
     ]
    }
   ],
   "source": [
    "#Your code here; try some regularization or other methods to tune your network\n",
    "\n",
    "# Try l2 regularization\n",
    "model_l2_params = {'layer_sizes': [7, 10], 'dropout': False, 'l2_reg': True}\n",
    "\n",
    "results_l2 = k_folds(X_train, y_train, model_obj=model_l2_params, k=10, n_epochs=150)"
   ]
  },
  {
   "cell_type": "code",
   "execution_count": 116,
   "metadata": {},
   "outputs": [
    {
     "name": "stdout",
     "output_type": "stream",
     "text": [
      "{'mean_val_mse': 0.0582184147953293, 'mean_val_mae': 0.1181558246119584}\n",
      "{'mean_val_mse': 0.0663515302037439, 'mean_val_mae': 0.12161411688124482}\n"
     ]
    }
   ],
   "source": [
    "print(results)\n",
    "print(results_l2)"
   ]
  },
  {
   "cell_type": "code",
   "execution_count": 117,
   "metadata": {},
   "outputs": [
    {
     "name": "stdout",
     "output_type": "stream",
     "text": [
      "3312/3312 [==============================] - 1s 404us/step\n",
      "Fold 0 metrics: \n",
      "val_mse: 0.10493473757220351\n",
      "val_mae: 0.2049495402165657\n",
      "\n",
      "3312/3312 [==============================] - 1s 448us/step\n",
      "Fold 1 metrics: \n",
      "val_mse: 0.0847124815851018\n",
      "val_mae: 0.1855895208635768\n",
      "\n",
      "3312/3312 [==============================] - 1s 388us/step\n",
      "Fold 2 metrics: \n",
      "val_mse: 0.11314475806295007\n",
      "val_mae: 0.21714572500491489\n",
      "\n",
      "3312/3312 [==============================] - 1s 394us/step\n",
      "Fold 3 metrics: \n",
      "val_mse: 0.10466197334625871\n",
      "val_mae: 0.19946164187889745\n",
      "\n",
      "3312/3312 [==============================] - 1s 396us/step\n",
      "Fold 4 metrics: \n",
      "val_mse: 0.10760460421442986\n",
      "val_mae: 0.208709303451621\n",
      "\n",
      "3311/3311 [==============================] - 1s 420us/step\n",
      "Fold 5 metrics: \n",
      "val_mse: 0.11870223717841091\n",
      "val_mae: 0.25734003384608006\n",
      "\n",
      "3311/3311 [==============================] - 1s 412us/step\n",
      "Fold 6 metrics: \n",
      "val_mse: 0.10403848126445138\n",
      "val_mae: 0.24018074780459564\n",
      "\n",
      "3311/3311 [==============================] - 1s 417us/step\n",
      "Fold 7 metrics: \n",
      "val_mse: 0.08481004664956245\n",
      "val_mae: 0.20271101304138942\n",
      "\n",
      "3311/3311 [==============================] - 1s 416us/step\n",
      "Fold 8 metrics: \n",
      "val_mse: 0.13403486123584757\n",
      "val_mae: 0.28223548844407165\n",
      "\n",
      "3311/3311 [==============================] - 1s 418us/step\n",
      "Fold 9 metrics: \n",
      "val_mse: 0.11013715198121198\n",
      "val_mae: 0.2513318935826047\n",
      "\n",
      "{'mean_val_mae': 0.2249654908134317, 'mean_val_mse': 0.10667813330904283}\n",
      "Time Elapsed: 0:08:56.145518\n"
     ]
    }
   ],
   "source": [
    "#Your code here; try some regularization or other methods to tune your network\n",
    "\n",
    "# Try dropout regularization\n",
    "model_dropout_params = {'layer_sizes': [7, 10], 'dropout': True}\n",
    "\n",
    "results_dropout = k_folds(X_train, y_train, model_obj=model_dropout_params, k=10, n_epochs=150)"
   ]
  },
  {
   "cell_type": "code",
   "execution_count": null,
   "metadata": {},
   "outputs": [],
   "source": [
    "#Your code here; try some regularization or other methods to tune your network"
   ]
  },
  {
   "cell_type": "code",
   "execution_count": null,
   "metadata": {},
   "outputs": [],
   "source": [
    "#Your code here; try some regularization or other methods to tune your network"
   ]
  },
  {
   "cell_type": "markdown",
   "metadata": {},
   "source": [
    "## Final Evaluation\n",
    "\n",
    "Now that you have selected a network architecture, tested various regularization procedures and tuned hyperparameters via a validation methodology, it is time to evaluate your finalized model once and for all. Fit the model using all of the training and validation data using the architecture and hyperparameters that were most effective in your expirements above. Afterwards, measure the overall performance on the hold-out test data which has been left untouched (and hasn't leaked any data into the modelling process)!"
   ]
  },
  {
   "cell_type": "code",
   "execution_count": null,
   "metadata": {},
   "outputs": [],
   "source": [
    "#Your code here; final model training on entire training set followed by evaluation on hold-out data"
   ]
  },
  {
   "cell_type": "markdown",
   "metadata": {},
   "source": [
    "## Additional Resources"
   ]
  },
  {
   "cell_type": "markdown",
   "metadata": {},
   "source": [
    "https://machinelearningmastery.com/dropout-regularization-deep-learning-models-keras/\n",
    "\n",
    "https://machinelearningmastery.com/grid-search-hyperparameters-deep-learning-models-python-keras/\n",
    "\n",
    "https://machinelearningmastery.com/regression-tutorial-keras-deep-learning-library-python/\n",
    "\n",
    "https://stackoverflow.com/questions/37232782/nan-loss-when-training-regression-network\n",
    "https://www.springboard.com/blog/free-public-data-sets-data-science-project/"
   ]
  },
  {
   "cell_type": "markdown",
   "metadata": {},
   "source": [
    "## Summary\n",
    "\n",
    "In this lab, we investigated some data from *The Lending Club* in a complete data science pipeline regarding neural networks. We began with reserving a hold-out set for testing which never was touched during the modeling phase. From there, we implemented a k-fold cross validation methodology in order to assess an initial baseline model and various regularization methods. From here, we'll begin to investigate other neural network architectures such as CNNs."
   ]
  }
 ],
 "metadata": {
  "kernelspec": {
   "display_name": "Python 3",
   "language": "python",
   "name": "python3"
  },
  "language_info": {
   "codemirror_mode": {
    "name": "ipython",
    "version": 3
   },
   "file_extension": ".py",
   "mimetype": "text/x-python",
   "name": "python",
   "nbconvert_exporter": "python",
   "pygments_lexer": "ipython3",
   "version": "3.7.3"
  }
 },
 "nbformat": 4,
 "nbformat_minor": 2
}
